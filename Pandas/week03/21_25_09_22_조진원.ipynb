{
 "cells": [
  {
   "cell_type": "markdown",
   "id": "41571ca1-0509-468f-a7d9-5484cfd811bd",
   "metadata": {},
   "source": [
    "# 21. 잔챙이 잡은 수 구하기"
   ]
  },
  {
   "cell_type": "code",
   "execution_count": 2,
   "id": "a2642c37-ba94-4e6b-b0e4-ef0472701bb2",
   "metadata": {},
   "outputs": [
    {
     "data": {
      "text/html": [
       "<div>\n",
       "<style scoped>\n",
       "    .dataframe tbody tr th:only-of-type {\n",
       "        vertical-align: middle;\n",
       "    }\n",
       "\n",
       "    .dataframe tbody tr th {\n",
       "        vertical-align: top;\n",
       "    }\n",
       "\n",
       "    .dataframe thead th {\n",
       "        text-align: right;\n",
       "    }\n",
       "</style>\n",
       "<table border=\"1\" class=\"dataframe\">\n",
       "  <thead>\n",
       "    <tr style=\"text-align: right;\">\n",
       "      <th></th>\n",
       "      <th>FSIH_COUNT</th>\n",
       "    </tr>\n",
       "  </thead>\n",
       "  <tbody>\n",
       "    <tr>\n",
       "      <th>0</th>\n",
       "      <td>2</td>\n",
       "    </tr>\n",
       "  </tbody>\n",
       "</table>\n",
       "</div>"
      ],
      "text/plain": [
       "   FSIH_COUNT\n",
       "0           2"
      ]
     },
     "execution_count": 2,
     "metadata": {},
     "output_type": "execute_result"
    }
   ],
   "source": [
    "import pandas as pd\n",
    "\n",
    "df21 = pd.read_csv('../datasets/FISH_INFO.csv')\n",
    "pd.DataFrame([len(df21.loc[df21['LENGTH'].isna()])], columns = ['FSIH_COUNT'])"
   ]
  },
  {
   "cell_type": "markdown",
   "id": "90a88107-ae69-41a4-a75b-a781c6c737c2",
   "metadata": {},
   "source": [
    "# 22. 잡은 물고기의 평균 길이 구하기"
   ]
  },
  {
   "cell_type": "code",
   "execution_count": 4,
   "id": "38c921f7-e106-40a8-b0da-fef45091be29",
   "metadata": {},
   "outputs": [
    {
     "data": {
      "text/html": [
       "<div>\n",
       "<style scoped>\n",
       "    .dataframe tbody tr th:only-of-type {\n",
       "        vertical-align: middle;\n",
       "    }\n",
       "\n",
       "    .dataframe tbody tr th {\n",
       "        vertical-align: top;\n",
       "    }\n",
       "\n",
       "    .dataframe thead th {\n",
       "        text-align: right;\n",
       "    }\n",
       "</style>\n",
       "<table border=\"1\" class=\"dataframe\">\n",
       "  <thead>\n",
       "    <tr style=\"text-align: right;\">\n",
       "      <th></th>\n",
       "      <th>AVERAGE_LENGTH</th>\n",
       "    </tr>\n",
       "  </thead>\n",
       "  <tbody>\n",
       "    <tr>\n",
       "      <th>0</th>\n",
       "      <td>27.78</td>\n",
       "    </tr>\n",
       "  </tbody>\n",
       "</table>\n",
       "</div>"
      ],
      "text/plain": [
       "   AVERAGE_LENGTH\n",
       "0           27.78"
      ]
     },
     "execution_count": 4,
     "metadata": {},
     "output_type": "execute_result"
    }
   ],
   "source": [
    "df22 = pd.read_csv('../datasets/FISH_INFO.csv')\n",
    "df22['LENGTH'] = df22['LENGTH'].fillna(10)\n",
    "\n",
    "pd.DataFrame([round(df22['LENGTH'].mean(),2)], columns=['AVERAGE_LENGTH'])"
   ]
  },
  {
   "cell_type": "markdown",
   "id": "995d5741-17e5-45ba-abde-d5d507eeddf4",
   "metadata": {},
   "source": [
    "# 23. 잡은 물고기 중 가장 큰 물고기의 길이 구하기"
   ]
  },
  {
   "cell_type": "code",
   "execution_count": 6,
   "id": "b30a2ae3-4d4b-451d-8efc-8457bd45272e",
   "metadata": {},
   "outputs": [
    {
     "data": {
      "text/html": [
       "<div>\n",
       "<style scoped>\n",
       "    .dataframe tbody tr th:only-of-type {\n",
       "        vertical-align: middle;\n",
       "    }\n",
       "\n",
       "    .dataframe tbody tr th {\n",
       "        vertical-align: top;\n",
       "    }\n",
       "\n",
       "    .dataframe thead th {\n",
       "        text-align: right;\n",
       "    }\n",
       "</style>\n",
       "<table border=\"1\" class=\"dataframe\">\n",
       "  <thead>\n",
       "    <tr style=\"text-align: right;\">\n",
       "      <th></th>\n",
       "      <th>MAX_LENGTH</th>\n",
       "    </tr>\n",
       "  </thead>\n",
       "  <tbody>\n",
       "    <tr>\n",
       "      <th>0</th>\n",
       "      <td>50.0cm</td>\n",
       "    </tr>\n",
       "  </tbody>\n",
       "</table>\n",
       "</div>"
      ],
      "text/plain": [
       "  MAX_LENGTH\n",
       "0     50.0cm"
      ]
     },
     "execution_count": 6,
     "metadata": {},
     "output_type": "execute_result"
    }
   ],
   "source": [
    "df23 = pd.read_csv('../datasets/FISH_INFO.csv')\n",
    "max_length = df23['LENGTH'].max()\n",
    "pd.DataFrame([str(max_length) + 'cm'], columns = ['MAX_LENGTH'])"
   ]
  },
  {
   "cell_type": "markdown",
   "id": "db12bee3-b809-441e-ad8c-250cf2502fa9",
   "metadata": {},
   "source": [
    "# 24. 한 해에 잡은 물고기 수 구하기"
   ]
  },
  {
   "cell_type": "code",
   "execution_count": 8,
   "id": "13269e42-6844-4523-bdc6-9afdd1cdf15e",
   "metadata": {},
   "outputs": [
    {
     "data": {
      "text/html": [
       "<div>\n",
       "<style scoped>\n",
       "    .dataframe tbody tr th:only-of-type {\n",
       "        vertical-align: middle;\n",
       "    }\n",
       "\n",
       "    .dataframe tbody tr th {\n",
       "        vertical-align: top;\n",
       "    }\n",
       "\n",
       "    .dataframe thead th {\n",
       "        text-align: right;\n",
       "    }\n",
       "</style>\n",
       "<table border=\"1\" class=\"dataframe\">\n",
       "  <thead>\n",
       "    <tr style=\"text-align: right;\">\n",
       "      <th></th>\n",
       "      <th>FISH_COUNT</th>\n",
       "    </tr>\n",
       "  </thead>\n",
       "  <tbody>\n",
       "    <tr>\n",
       "      <th>0</th>\n",
       "      <td>1</td>\n",
       "    </tr>\n",
       "  </tbody>\n",
       "</table>\n",
       "</div>"
      ],
      "text/plain": [
       "   FISH_COUNT\n",
       "0           1"
      ]
     },
     "execution_count": 8,
     "metadata": {},
     "output_type": "execute_result"
    }
   ],
   "source": [
    "df24 = pd.read_csv('../datasets/FISH_INFO.csv')\n",
    "\n",
    "df24['TIME'] = pd.to_datetime(df24['TIME'])\n",
    "count = len(df24.loc[df24['TIME'].dt.year == 2021])\n",
    "\n",
    "pd.DataFrame([count], columns=['FISH_COUNT'])"
   ]
  },
  {
   "cell_type": "markdown",
   "id": "441f9a04-efcc-4428-ad11-7f620e3a0c76",
   "metadata": {},
   "source": [
    "# 25. 가장 큰 물고기 10마리 구하기"
   ]
  },
  {
   "cell_type": "code",
   "execution_count": 10,
   "id": "f46eb8c1-de45-41ba-9b8b-7be2377c3501",
   "metadata": {},
   "outputs": [
    {
     "data": {
      "text/html": [
       "<div>\n",
       "<style scoped>\n",
       "    .dataframe tbody tr th:only-of-type {\n",
       "        vertical-align: middle;\n",
       "    }\n",
       "\n",
       "    .dataframe tbody tr th {\n",
       "        vertical-align: top;\n",
       "    }\n",
       "\n",
       "    .dataframe thead th {\n",
       "        text-align: right;\n",
       "    }\n",
       "</style>\n",
       "<table border=\"1\" class=\"dataframe\">\n",
       "  <thead>\n",
       "    <tr style=\"text-align: right;\">\n",
       "      <th></th>\n",
       "      <th>ID</th>\n",
       "      <th>LENGTH</th>\n",
       "    </tr>\n",
       "  </thead>\n",
       "  <tbody>\n",
       "    <tr>\n",
       "      <th>1</th>\n",
       "      <td>1</td>\n",
       "      <td>50.00</td>\n",
       "    </tr>\n",
       "    <tr>\n",
       "      <th>3</th>\n",
       "      <td>3</td>\n",
       "      <td>43.33</td>\n",
       "    </tr>\n",
       "    <tr>\n",
       "      <th>2</th>\n",
       "      <td>2</td>\n",
       "      <td>40.00</td>\n",
       "    </tr>\n",
       "    <tr>\n",
       "      <th>0</th>\n",
       "      <td>0</td>\n",
       "      <td>13.37</td>\n",
       "    </tr>\n",
       "  </tbody>\n",
       "</table>\n",
       "</div>"
      ],
      "text/plain": [
       "   ID  LENGTH\n",
       "1   1   50.00\n",
       "3   3   43.33\n",
       "2   2   40.00\n",
       "0   0   13.37"
      ]
     },
     "execution_count": 10,
     "metadata": {},
     "output_type": "execute_result"
    }
   ],
   "source": [
    "df25 = pd.read_csv('../datasets/FISH_INFO.csv')\n",
    "df25 = df25.loc[df25['LENGTH'].notna()].sort_values(by=['LENGTH', 'ID'], ascending=[False, True])\n",
    "df25.iloc[:10,:][['ID','LENGTH']]"
   ]
  }
 ],
 "metadata": {
  "kernelspec": {
   "display_name": "Python 3 (ipykernel)",
   "language": "python",
   "name": "python3"
  },
  "language_info": {
   "codemirror_mode": {
    "name": "ipython",
    "version": 3
   },
   "file_extension": ".py",
   "mimetype": "text/x-python",
   "name": "python",
   "nbconvert_exporter": "python",
   "pygments_lexer": "ipython3",
   "version": "3.12.4"
  }
 },
 "nbformat": 4,
 "nbformat_minor": 5
}
