{
 "cells": [
  {
   "cell_type": "markdown",
   "id": "1bb32707-8729-445c-8ffe-3ca7d147c140",
   "metadata": {},
   "source": [
    "# 11. 조건에 맞는 회원수 구하기"
   ]
  },
  {
   "cell_type": "code",
   "execution_count": 2,
   "id": "64b997da-a658-4038-a890-7b2a65dc384f",
   "metadata": {},
   "outputs": [
    {
     "name": "stdout",
     "output_type": "stream",
     "text": [
      "9 명\n"
     ]
    }
   ],
   "source": [
    "import pandas as pd\n",
    "\n",
    "df11 = pd.read_csv('../datasets/USER_INFO.csv')\n",
    "# joined 데이터 datetime으로\n",
    "df11['joined'] = pd.to_datetime(df11['joined'], format='mixed')  ## 데어타기 일관된 형식이 아니라면 'mixed' 파라미터를 넣으면 조정을 해줌\n",
    "print(len(df11.loc[(df11['joined'].dt.year == 2021) & (df11['age'] >= 20) & (df11['age'] <=20)]), '명')"
   ]
  },
  {
   "cell_type": "markdown",
   "id": "c57ff52f-90d2-46dc-bb49-0e2c648ed2e9",
   "metadata": {},
   "source": [
    "# 12. 가장 비싼 상품 구하기"
   ]
  },
  {
   "cell_type": "code",
   "execution_count": 4,
   "id": "abafe232-5b29-4195-b149-ee4205fa3dd7",
   "metadata": {},
   "outputs": [
    {
     "data": {
      "text/plain": [
       "85000"
      ]
     },
     "execution_count": 4,
     "metadata": {},
     "output_type": "execute_result"
    }
   ],
   "source": [
    "df12 = pd.read_csv('../datasets/PRODUCT.csv')\n",
    "max(df12['price'])"
   ]
  },
  {
   "cell_type": "markdown",
   "id": "7c68c1d4-4183-4204-b832-e398b984155c",
   "metadata": {},
   "source": [
    "# 13. 12세 이하인 여자 환자 목록 출력하기"
   ]
  },
  {
   "cell_type": "code",
   "execution_count": 6,
   "id": "3df02058-6005-4777-b844-4289fc432f50",
   "metadata": {},
   "outputs": [
    {
     "data": {
      "text/html": [
       "<div>\n",
       "<style scoped>\n",
       "    .dataframe tbody tr th:only-of-type {\n",
       "        vertical-align: middle;\n",
       "    }\n",
       "\n",
       "    .dataframe tbody tr th {\n",
       "        vertical-align: top;\n",
       "    }\n",
       "\n",
       "    .dataframe thead th {\n",
       "        text-align: right;\n",
       "    }\n",
       "</style>\n",
       "<table border=\"1\" class=\"dataframe\">\n",
       "  <thead>\n",
       "    <tr style=\"text-align: right;\">\n",
       "      <th></th>\n",
       "      <th>PT_NO</th>\n",
       "      <th>PT_NAME</th>\n",
       "      <th>AGE</th>\n",
       "      <th>TLNO</th>\n",
       "    </tr>\n",
       "  </thead>\n",
       "  <tbody>\n",
       "    <tr>\n",
       "      <th>8</th>\n",
       "      <td>PT22000009</td>\n",
       "      <td>한나</td>\n",
       "      <td>12</td>\n",
       "      <td>1032323117.0</td>\n",
       "    </tr>\n",
       "    <tr>\n",
       "      <th>17</th>\n",
       "      <td>PT22000018</td>\n",
       "      <td>안나</td>\n",
       "      <td>11</td>\n",
       "      <td>None</td>\n",
       "    </tr>\n",
       "    <tr>\n",
       "      <th>18</th>\n",
       "      <td>PT22000019</td>\n",
       "      <td>바라</td>\n",
       "      <td>10</td>\n",
       "      <td>1079068799.0</td>\n",
       "    </tr>\n",
       "    <tr>\n",
       "      <th>21</th>\n",
       "      <td>PT22000022</td>\n",
       "      <td>스티치</td>\n",
       "      <td>9</td>\n",
       "      <td>None</td>\n",
       "    </tr>\n",
       "    <tr>\n",
       "      <th>5</th>\n",
       "      <td>PT22000006</td>\n",
       "      <td>뽀뽀</td>\n",
       "      <td>8</td>\n",
       "      <td>None</td>\n",
       "    </tr>\n",
       "    <tr>\n",
       "      <th>3</th>\n",
       "      <td>PT22000004</td>\n",
       "      <td>크롱</td>\n",
       "      <td>7</td>\n",
       "      <td>None</td>\n",
       "    </tr>\n",
       "    <tr>\n",
       "      <th>4</th>\n",
       "      <td>PT22000005</td>\n",
       "      <td>포비</td>\n",
       "      <td>7</td>\n",
       "      <td>None</td>\n",
       "    </tr>\n",
       "    <tr>\n",
       "      <th>11</th>\n",
       "      <td>PT22000012</td>\n",
       "      <td>뿡뿡이</td>\n",
       "      <td>5</td>\n",
       "      <td>None</td>\n",
       "    </tr>\n",
       "  </tbody>\n",
       "</table>\n",
       "</div>"
      ],
      "text/plain": [
       "         PT_NO PT_NAME  AGE          TLNO\n",
       "8   PT22000009      한나   12  1032323117.0\n",
       "17  PT22000018      안나   11          None\n",
       "18  PT22000019      바라   10  1079068799.0\n",
       "21  PT22000022     스티치    9          None\n",
       "5   PT22000006      뽀뽀    8          None\n",
       "3   PT22000004      크롱    7          None\n",
       "4   PT22000005      포비    7          None\n",
       "11  PT22000012     뿡뿡이    5          None"
      ]
     },
     "execution_count": 6,
     "metadata": {},
     "output_type": "execute_result"
    }
   ],
   "source": [
    "df13 = pd.read_csv('../datasets/PATIENT.csv', encoding='cp949', header=1)\n",
    "df13 = df13.drop(columns=['GEND_CD'], axis=1)\n",
    "df13['TLNO'] = df13['TLNO'].fillna('None')\n",
    "df13.loc[df13['AGE'] <=12].sort_values(by=['AGE','PT_NAME'], ascending=[False,True])"
   ]
  },
  {
   "cell_type": "markdown",
   "id": "d39e3d64-a03b-4952-842c-3ac7fbb6b432",
   "metadata": {},
   "source": [
    "# 14. 인기있는 아이스크림"
   ]
  },
  {
   "cell_type": "code",
   "execution_count": 8,
   "id": "2b30a1cb-cfd6-4a12-8c18-0254088965f3",
   "metadata": {},
   "outputs": [
    {
     "data": {
      "text/html": [
       "<div>\n",
       "<style scoped>\n",
       "    .dataframe tbody tr th:only-of-type {\n",
       "        vertical-align: middle;\n",
       "    }\n",
       "\n",
       "    .dataframe tbody tr th {\n",
       "        vertical-align: top;\n",
       "    }\n",
       "\n",
       "    .dataframe thead th {\n",
       "        text-align: right;\n",
       "    }\n",
       "</style>\n",
       "<table border=\"1\" class=\"dataframe\">\n",
       "  <thead>\n",
       "    <tr style=\"text-align: right;\">\n",
       "      <th></th>\n",
       "      <th>SHIPMENT_ID</th>\n",
       "      <th>FLAVOR</th>\n",
       "      <th>TOTAL_ORDER</th>\n",
       "    </tr>\n",
       "  </thead>\n",
       "  <tbody>\n",
       "    <tr>\n",
       "      <th>1</th>\n",
       "      <td>101</td>\n",
       "      <td>chocolate</td>\n",
       "      <td>3200</td>\n",
       "    </tr>\n",
       "    <tr>\n",
       "      <th>6</th>\n",
       "      <td>105</td>\n",
       "      <td>white_chocolate</td>\n",
       "      <td>3100</td>\n",
       "    </tr>\n",
       "    <tr>\n",
       "      <th>4</th>\n",
       "      <td>109</td>\n",
       "      <td>strawberry</td>\n",
       "      <td>3100</td>\n",
       "    </tr>\n",
       "    <tr>\n",
       "      <th>5</th>\n",
       "      <td>102</td>\n",
       "      <td>vanilla</td>\n",
       "      <td>2800</td>\n",
       "    </tr>\n",
       "    <tr>\n",
       "      <th>0</th>\n",
       "      <td>104</td>\n",
       "      <td>caramel</td>\n",
       "      <td>2600</td>\n",
       "    </tr>\n",
       "    <tr>\n",
       "      <th>3</th>\n",
       "      <td>106</td>\n",
       "      <td>peach</td>\n",
       "      <td>2450</td>\n",
       "    </tr>\n",
       "    <tr>\n",
       "      <th>2</th>\n",
       "      <td>103</td>\n",
       "      <td>mint_chocolate</td>\n",
       "      <td>1700</td>\n",
       "    </tr>\n",
       "  </tbody>\n",
       "</table>\n",
       "</div>"
      ],
      "text/plain": [
       "   SHIPMENT_ID           FLAVOR  TOTAL_ORDER\n",
       "1          101        chocolate         3200\n",
       "6          105  white_chocolate         3100\n",
       "4          109       strawberry         3100\n",
       "5          102          vanilla         2800\n",
       "0          104          caramel         2600\n",
       "3          106            peach         2450\n",
       "2          103   mint_chocolate         1700"
      ]
     },
     "execution_count": 8,
     "metadata": {},
     "output_type": "execute_result"
    }
   ],
   "source": [
    "df14 = pd.read_csv('../datasets/FIRST_HALF.csv')\n",
    "df14.sort_values(by=['TOTAL_ORDER', 'SHIPMENT_ID'], ascending=[False, True])"
   ]
  },
  {
   "cell_type": "markdown",
   "id": "c9ad42ff-0fbe-4dd5-8b3f-c28fa7fedb7e",
   "metadata": {},
   "source": [
    "# 15. 흉부외과 또는 일반외과 의사 목록 출력하기"
   ]
  },
  {
   "cell_type": "code",
   "execution_count": 10,
   "id": "07de83c8-8cdc-45a4-a715-d3cd5366495b",
   "metadata": {},
   "outputs": [
    {
     "data": {
      "text/html": [
       "<div>\n",
       "<style scoped>\n",
       "    .dataframe tbody tr th:only-of-type {\n",
       "        vertical-align: middle;\n",
       "    }\n",
       "\n",
       "    .dataframe tbody tr th {\n",
       "        vertical-align: top;\n",
       "    }\n",
       "\n",
       "    .dataframe thead th {\n",
       "        text-align: right;\n",
       "    }\n",
       "</style>\n",
       "<table border=\"1\" class=\"dataframe\">\n",
       "  <thead>\n",
       "    <tr style=\"text-align: right;\">\n",
       "      <th></th>\n",
       "      <th>DR_NAME</th>\n",
       "      <th>DR_ID</th>\n",
       "      <th>MCDP_CD</th>\n",
       "      <th>HIRE_YMD</th>\n",
       "    </tr>\n",
       "  </thead>\n",
       "  <tbody>\n",
       "    <tr>\n",
       "      <th>1</th>\n",
       "      <td>니모</td>\n",
       "      <td>DR20200012</td>\n",
       "      <td>CS</td>\n",
       "      <td>2020-03-01</td>\n",
       "    </tr>\n",
       "    <tr>\n",
       "      <th>9</th>\n",
       "      <td>윈더</td>\n",
       "      <td>DR20190029</td>\n",
       "      <td>CS</td>\n",
       "      <td>2019-03-01</td>\n",
       "    </tr>\n",
       "    <tr>\n",
       "      <th>7</th>\n",
       "      <td>뽀로로</td>\n",
       "      <td>DR20170123</td>\n",
       "      <td>GS</td>\n",
       "      <td>2017-03-01</td>\n",
       "    </tr>\n",
       "    <tr>\n",
       "      <th>5</th>\n",
       "      <td>벨</td>\n",
       "      <td>DR20100039</td>\n",
       "      <td>GS</td>\n",
       "      <td>2010-07-01</td>\n",
       "    </tr>\n",
       "    <tr>\n",
       "      <th>10</th>\n",
       "      <td>자스민</td>\n",
       "      <td>DR20100032</td>\n",
       "      <td>GS</td>\n",
       "      <td>2010-03-01</td>\n",
       "    </tr>\n",
       "    <tr>\n",
       "      <th>14</th>\n",
       "      <td>패티</td>\n",
       "      <td>DR20090001</td>\n",
       "      <td>CS</td>\n",
       "      <td>2009-07-01</td>\n",
       "    </tr>\n",
       "    <tr>\n",
       "      <th>3</th>\n",
       "      <td>루피</td>\n",
       "      <td>DR20090029</td>\n",
       "      <td>CS</td>\n",
       "      <td>2009-03-01</td>\n",
       "    </tr>\n",
       "  </tbody>\n",
       "</table>\n",
       "</div>"
      ],
      "text/plain": [
       "   DR_NAME       DR_ID MCDP_CD   HIRE_YMD\n",
       "1       니모  DR20200012      CS 2020-03-01\n",
       "9       윈더  DR20190029      CS 2019-03-01\n",
       "7      뽀로로  DR20170123      GS 2017-03-01\n",
       "5        벨  DR20100039      GS 2010-07-01\n",
       "10     자스민  DR20100032      GS 2010-03-01\n",
       "14      패티  DR20090001      CS 2009-07-01\n",
       "3       루피  DR20090029      CS 2009-03-01"
      ]
     },
     "execution_count": 10,
     "metadata": {},
     "output_type": "execute_result"
    }
   ],
   "source": [
    "df15 = pd.read_csv('../datasets/DOCTOR.csv', encoding='cp949')\n",
    "\n",
    "# 고용일자 날짜형으로\n",
    "df15['HIRE_YMD'] = pd.to_datetime(df15['HIRE_YMD'], format='mixed')\n",
    "df15 = df15.loc[df15['MCDP_CD'].isin(['CS','GS'])][['DR_NAME','DR_ID','MCDP_CD','HIRE_YMD']]\n",
    "df15.sort_values(by=['HIRE_YMD','DR_NAME'], ascending=[False,True])"
   ]
  }
 ],
 "metadata": {
  "kernelspec": {
   "display_name": "Python 3 (ipykernel)",
   "language": "python",
   "name": "python3"
  },
  "language_info": {
   "codemirror_mode": {
    "name": "ipython",
    "version": 3
   },
   "file_extension": ".py",
   "mimetype": "text/x-python",
   "name": "python",
   "nbconvert_exporter": "python",
   "pygments_lexer": "ipython3",
   "version": "3.12.4"
  }
 },
 "nbformat": 4,
 "nbformat_minor": 5
}
