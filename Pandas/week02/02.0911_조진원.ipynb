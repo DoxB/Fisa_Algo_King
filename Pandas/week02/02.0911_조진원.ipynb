{
 "cells": [
  {
   "cell_type": "markdown",
   "id": "0742c461-0787-461a-8c19-084d1eb8953e",
   "metadata": {},
   "source": [
    "# 06. 상위 n개 레코드"
   ]
  },
  {
   "cell_type": "code",
   "execution_count": 6,
   "id": "2e266179-a191-488d-a072-34fa2e3915cc",
   "metadata": {},
   "outputs": [
    {
     "data": {
      "text/html": [
       "<div>\n",
       "<style scoped>\n",
       "    .dataframe tbody tr th:only-of-type {\n",
       "        vertical-align: middle;\n",
       "    }\n",
       "\n",
       "    .dataframe tbody tr th {\n",
       "        vertical-align: top;\n",
       "    }\n",
       "\n",
       "    .dataframe thead th {\n",
       "        text-align: right;\n",
       "    }\n",
       "</style>\n",
       "<table border=\"1\" class=\"dataframe\">\n",
       "  <thead>\n",
       "    <tr style=\"text-align: right;\">\n",
       "      <th></th>\n",
       "      <th>DATETIME</th>\n",
       "    </tr>\n",
       "  </thead>\n",
       "  <tbody>\n",
       "    <tr>\n",
       "      <th>31</th>\n",
       "      <td>2018-02-03 10:40:00</td>\n",
       "    </tr>\n",
       "  </tbody>\n",
       "</table>\n",
       "</div>"
      ],
      "text/plain": [
       "              DATETIME\n",
       "31 2018-02-03 10:40:00"
      ]
     },
     "execution_count": 6,
     "metadata": {},
     "output_type": "execute_result"
    }
   ],
   "source": [
    "import pandas as pd\n",
    "df6 = pd.read_csv('../datasets/ANIMAL_INS.csv')\n",
    "\n",
    "# datetime 시간데이터로 변환\n",
    "df6['DATETIME'] = pd.to_datetime(df6['DATETIME'])\n",
    "\n",
    "df6.loc[df6['DATETIME'] == max(df6['DATETIME'])][['DATETIME']]"
   ]
  },
  {
   "cell_type": "markdown",
   "id": "6ecb7265-005b-40fc-bb28-e222f2c39b3b",
   "metadata": {},
   "source": [
    "# 07. 이름이 있는 동물의 아이디"
   ]
  },
  {
   "cell_type": "code",
   "execution_count": 11,
   "id": "428aa143-46a4-48c1-8c12-5975626dd6c7",
   "metadata": {},
   "outputs": [
    {
     "data": {
      "text/html": [
       "<div>\n",
       "<style scoped>\n",
       "    .dataframe tbody tr th:only-of-type {\n",
       "        vertical-align: middle;\n",
       "    }\n",
       "\n",
       "    .dataframe tbody tr th {\n",
       "        vertical-align: top;\n",
       "    }\n",
       "\n",
       "    .dataframe thead th {\n",
       "        text-align: right;\n",
       "    }\n",
       "</style>\n",
       "<table border=\"1\" class=\"dataframe\">\n",
       "  <thead>\n",
       "    <tr style=\"text-align: right;\">\n",
       "      <th></th>\n",
       "      <th>ANIMAL_ID</th>\n",
       "    </tr>\n",
       "  </thead>\n",
       "  <tbody>\n",
       "    <tr>\n",
       "      <th>0</th>\n",
       "      <td>A349996</td>\n",
       "    </tr>\n",
       "    <tr>\n",
       "      <th>1</th>\n",
       "      <td>A350276</td>\n",
       "    </tr>\n",
       "    <tr>\n",
       "      <th>2</th>\n",
       "      <td>A350375</td>\n",
       "    </tr>\n",
       "    <tr>\n",
       "      <th>3</th>\n",
       "      <td>A352555</td>\n",
       "    </tr>\n",
       "    <tr>\n",
       "      <th>4</th>\n",
       "      <td>A352713</td>\n",
       "    </tr>\n",
       "    <tr>\n",
       "      <th>...</th>\n",
       "      <td>...</td>\n",
       "    </tr>\n",
       "    <tr>\n",
       "      <th>95</th>\n",
       "      <td>A412626</td>\n",
       "    </tr>\n",
       "    <tr>\n",
       "      <th>96</th>\n",
       "      <td>A412697</td>\n",
       "    </tr>\n",
       "    <tr>\n",
       "      <th>97</th>\n",
       "      <td>A413789</td>\n",
       "    </tr>\n",
       "    <tr>\n",
       "      <th>98</th>\n",
       "      <td>A414198</td>\n",
       "    </tr>\n",
       "    <tr>\n",
       "      <th>99</th>\n",
       "      <td>A414513</td>\n",
       "    </tr>\n",
       "  </tbody>\n",
       "</table>\n",
       "<p>100 rows × 1 columns</p>\n",
       "</div>"
      ],
      "text/plain": [
       "   ANIMAL_ID\n",
       "0    A349996\n",
       "1    A350276\n",
       "2    A350375\n",
       "3    A352555\n",
       "4    A352713\n",
       "..       ...\n",
       "95   A412626\n",
       "96   A412697\n",
       "97   A413789\n",
       "98   A414198\n",
       "99   A414513\n",
       "\n",
       "[100 rows x 1 columns]"
      ]
     },
     "execution_count": 11,
     "metadata": {},
     "output_type": "execute_result"
    }
   ],
   "source": [
    "df7 = pd.read_csv('../datasets/ANIMAL_INS.csv')\n",
    "df7.loc[df7['NAME'] != df7['NAME'].isna()][['ANIMAL_ID']].sort_values(by='ANIMAL_ID')"
   ]
  },
  {
   "cell_type": "markdown",
   "id": "4286de08-dd84-4e85-86e5-e2e9e6196c01",
   "metadata": {},
   "source": [
    "# 08. 강원도에 위치한 생산공장 목록 출력하기"
   ]
  },
  {
   "cell_type": "code",
   "execution_count": 36,
   "id": "8cf7f75e-239f-49d4-96d1-b7ac338fb9c2",
   "metadata": {},
   "outputs": [
    {
     "data": {
      "text/html": [
       "<div>\n",
       "<style scoped>\n",
       "    .dataframe tbody tr th:only-of-type {\n",
       "        vertical-align: middle;\n",
       "    }\n",
       "\n",
       "    .dataframe tbody tr th {\n",
       "        vertical-align: top;\n",
       "    }\n",
       "\n",
       "    .dataframe thead th {\n",
       "        text-align: right;\n",
       "    }\n",
       "</style>\n",
       "<table border=\"1\" class=\"dataframe\">\n",
       "  <thead>\n",
       "    <tr style=\"text-align: right;\">\n",
       "      <th></th>\n",
       "      <th>FACTORY_ID</th>\n",
       "      <th>FACTORY_NAME</th>\n",
       "      <th>ADDRESS</th>\n",
       "      <th>TLNO</th>\n",
       "    </tr>\n",
       "  </thead>\n",
       "  <tbody>\n",
       "    <tr>\n",
       "      <th>2</th>\n",
       "      <td>FT19980003</td>\n",
       "      <td>(주)맛있는라면</td>\n",
       "      <td>강원도 정선군 남면 칠현로 679</td>\n",
       "      <td>033-431-3122</td>\n",
       "    </tr>\n",
       "    <tr>\n",
       "      <th>21</th>\n",
       "      <td>FT20100003</td>\n",
       "      <td>(주)맛있는음료</td>\n",
       "      <td>강원도 원주시 문막읍 문막공단길 154</td>\n",
       "      <td>033-232-7630</td>\n",
       "    </tr>\n",
       "    <tr>\n",
       "      <th>22</th>\n",
       "      <td>FT20100004</td>\n",
       "      <td>(주)맛있는국</td>\n",
       "      <td>강원도 평창군 봉평면 진조길 227-35</td>\n",
       "      <td>033-323-6640</td>\n",
       "    </tr>\n",
       "  </tbody>\n",
       "</table>\n",
       "</div>"
      ],
      "text/plain": [
       "    FACTORY_ID FACTORY_NAME                 ADDRESS          TLNO\n",
       "2   FT19980003     (주)맛있는라면      강원도 정선군 남면 칠현로 679  033-431-3122\n",
       "21  FT20100003     (주)맛있는음료   강원도 원주시 문막읍 문막공단길 154  033-232-7630\n",
       "22  FT20100004      (주)맛있는국  강원도 평창군 봉평면 진조길 227-35  033-323-6640"
      ]
     },
     "execution_count": 36,
     "metadata": {},
     "output_type": "execute_result"
    }
   ],
   "source": [
    "df8 = pd.read_csv('../datasets/FOOD_FACTORY.csv', encoding='cp949')\n",
    "df8.loc[df8['ADDRESS'].str.contains('강원도')].sort_values(by='FACTORY_ID')"
   ]
  },
  {
   "cell_type": "markdown",
   "id": "1087d1e8-819d-43cb-8125-5d2ca88a0706",
   "metadata": {},
   "source": [
    "# 09. 최댓값 구하기"
   ]
  },
  {
   "cell_type": "code",
   "execution_count": 80,
   "id": "414dd081-6dd8-4423-9879-931d6024dc65",
   "metadata": {},
   "outputs": [
    {
     "data": {
      "text/html": [
       "<div>\n",
       "<style scoped>\n",
       "    .dataframe tbody tr th:only-of-type {\n",
       "        vertical-align: middle;\n",
       "    }\n",
       "\n",
       "    .dataframe tbody tr th {\n",
       "        vertical-align: top;\n",
       "    }\n",
       "\n",
       "    .dataframe thead th {\n",
       "        text-align: right;\n",
       "    }\n",
       "</style>\n",
       "<table border=\"1\" class=\"dataframe\">\n",
       "  <thead>\n",
       "    <tr style=\"text-align: right;\">\n",
       "      <th></th>\n",
       "      <th>시간</th>\n",
       "    </tr>\n",
       "  </thead>\n",
       "  <tbody>\n",
       "    <tr>\n",
       "      <th>0</th>\n",
       "      <td>2018-02-03 10:40:00</td>\n",
       "    </tr>\n",
       "  </tbody>\n",
       "</table>\n",
       "</div>"
      ],
      "text/plain": [
       "                   시간\n",
       "0 2018-02-03 10:40:00"
      ]
     },
     "execution_count": 80,
     "metadata": {},
     "output_type": "execute_result"
    }
   ],
   "source": [
    "df9 = pd.read_csv('../datasets/ANIMAL_INS.csv')\n",
    "\n",
    "# datetime 시간데이터로 변환\n",
    "df9['DATETIME'] = pd.to_datetime(df9['DATETIME'])\n",
    "\n",
    "# 데이터 프레임은 단일값을 넣으면 오류가 뜬다! 리스트로 감싸주기\n",
    "pd.DataFrame([df9['DATETIME'].max()], columns=['시간'])"
   ]
  },
  {
   "cell_type": "markdown",
   "id": "7aed86b9-f789-4659-81bf-e23771eb40f9",
   "metadata": {},
   "source": [
    "# 10. 경기도에 위치한 식품창고 목록 출력하기"
   ]
  },
  {
   "cell_type": "code",
   "execution_count": 106,
   "id": "98012d9c-c695-426b-ae4a-c2560532eb7a",
   "metadata": {},
   "outputs": [
    {
     "data": {
      "text/html": [
       "<div>\n",
       "<style scoped>\n",
       "    .dataframe tbody tr th:only-of-type {\n",
       "        vertical-align: middle;\n",
       "    }\n",
       "\n",
       "    .dataframe tbody tr th {\n",
       "        vertical-align: top;\n",
       "    }\n",
       "\n",
       "    .dataframe thead th {\n",
       "        text-align: right;\n",
       "    }\n",
       "</style>\n",
       "<table border=\"1\" class=\"dataframe\">\n",
       "  <thead>\n",
       "    <tr style=\"text-align: right;\">\n",
       "      <th></th>\n",
       "      <th>WAREHOUSE_ID</th>\n",
       "      <th>WAREHOUSE_NAME</th>\n",
       "      <th>ADDRESS</th>\n",
       "      <th>FREEZER_YN</th>\n",
       "    </tr>\n",
       "  </thead>\n",
       "  <tbody>\n",
       "    <tr>\n",
       "      <th>0</th>\n",
       "      <td>WH0001</td>\n",
       "      <td>창고_경기1</td>\n",
       "      <td>경기도 안산시 상록구 용담로 141</td>\n",
       "      <td>Y</td>\n",
       "    </tr>\n",
       "    <tr>\n",
       "      <th>2</th>\n",
       "      <td>WH0003</td>\n",
       "      <td>창고_경기2</td>\n",
       "      <td>경기도 이천시 마장면 덕평로 811</td>\n",
       "      <td>N</td>\n",
       "    </tr>\n",
       "    <tr>\n",
       "      <th>3</th>\n",
       "      <td>WH0004</td>\n",
       "      <td>창고_경기3</td>\n",
       "      <td>경기도 김포시 대곶면 율생중앙로205번길</td>\n",
       "      <td>N</td>\n",
       "    </tr>\n",
       "    <tr>\n",
       "      <th>6</th>\n",
       "      <td>WH0012</td>\n",
       "      <td>창고_경기7</td>\n",
       "      <td>경기도 수원시 권선구 오목천로152번길 40</td>\n",
       "      <td>N</td>\n",
       "    </tr>\n",
       "    <tr>\n",
       "      <th>16</th>\n",
       "      <td>WH0032</td>\n",
       "      <td>창고_경기9</td>\n",
       "      <td>경기도 안양시 만안구 전파로 3</td>\n",
       "      <td>N</td>\n",
       "    </tr>\n",
       "  </tbody>\n",
       "</table>\n",
       "</div>"
      ],
      "text/plain": [
       "   WAREHOUSE_ID WAREHOUSE_NAME                   ADDRESS FREEZER_YN\n",
       "0        WH0001         창고_경기1       경기도 안산시 상록구 용담로 141          Y\n",
       "2        WH0003         창고_경기2       경기도 이천시 마장면 덕평로 811          N\n",
       "3        WH0004         창고_경기3    경기도 김포시 대곶면 율생중앙로205번길          N\n",
       "6        WH0012         창고_경기7  경기도 수원시 권선구 오목천로152번길 40          N\n",
       "16       WH0032         창고_경기9         경기도 안양시 만안구 전파로 3          N"
      ]
     },
     "execution_count": 106,
     "metadata": {},
     "output_type": "execute_result"
    }
   ],
   "source": [
    "import numpy as np\n",
    "\n",
    "df10 = pd.read_csv('../datasets/FOOD_WAREHOUSE.csv', encoding='cp949')\n",
    "df10['FREEZER_YN'] = df10['FREEZER_YN'].apply(lambda x : 'N' if pd.isna(x) else x)\n",
    "df10 = df10[df10['WAREHOUSE_NAME'].str.contains('경기')]\n",
    "df10.drop(columns=['TLNO'], axis=1).sort_values(by='WAREHOUSE_ID')"
   ]
  }
 ],
 "metadata": {
  "kernelspec": {
   "display_name": "Python 3 (ipykernel)",
   "language": "python",
   "name": "python3"
  },
  "language_info": {
   "codemirror_mode": {
    "name": "ipython",
    "version": 3
   },
   "file_extension": ".py",
   "mimetype": "text/x-python",
   "name": "python",
   "nbconvert_exporter": "python",
   "pygments_lexer": "ipython3",
   "version": "3.12.4"
  }
 },
 "nbformat": 4,
 "nbformat_minor": 5
}
