{
 "cells": [
  {
   "cell_type": "markdown",
   "id": "886fc9e6-30d1-44d6-9944-f652eb6dbe8d",
   "metadata": {},
   "source": [
    "# 01. NULL 처리하기"
   ]
  },
  {
   "cell_type": "code",
   "execution_count": 2,
   "id": "154c9fbf-fbc0-4096-a43a-12b1625af4e6",
   "metadata": {},
   "outputs": [
    {
     "data": {
      "text/html": [
       "<div>\n",
       "<style scoped>\n",
       "    .dataframe tbody tr th:only-of-type {\n",
       "        vertical-align: middle;\n",
       "    }\n",
       "\n",
       "    .dataframe tbody tr th {\n",
       "        vertical-align: top;\n",
       "    }\n",
       "\n",
       "    .dataframe thead th {\n",
       "        text-align: right;\n",
       "    }\n",
       "</style>\n",
       "<table border=\"1\" class=\"dataframe\">\n",
       "  <thead>\n",
       "    <tr style=\"text-align: right;\">\n",
       "      <th></th>\n",
       "      <th>ANIMAL_TYPE</th>\n",
       "      <th>NAME</th>\n",
       "      <th>SEX_UPON_INTAKE</th>\n",
       "    </tr>\n",
       "  </thead>\n",
       "  <tbody>\n",
       "    <tr>\n",
       "      <th>0</th>\n",
       "      <td>Cat</td>\n",
       "      <td>Sugar</td>\n",
       "      <td>Neutered Male</td>\n",
       "    </tr>\n",
       "    <tr>\n",
       "      <th>1</th>\n",
       "      <td>Cat</td>\n",
       "      <td>Jewel</td>\n",
       "      <td>Spayed Female</td>\n",
       "    </tr>\n",
       "    <tr>\n",
       "      <th>2</th>\n",
       "      <td>Cat</td>\n",
       "      <td>Meo</td>\n",
       "      <td>Neutered Male</td>\n",
       "    </tr>\n",
       "    <tr>\n",
       "      <th>3</th>\n",
       "      <td>Dog</td>\n",
       "      <td>Harley</td>\n",
       "      <td>Spayed Female</td>\n",
       "    </tr>\n",
       "    <tr>\n",
       "      <th>4</th>\n",
       "      <td>Cat</td>\n",
       "      <td>Gia</td>\n",
       "      <td>Spayed Female</td>\n",
       "    </tr>\n",
       "    <tr>\n",
       "      <th>...</th>\n",
       "      <td>...</td>\n",
       "      <td>...</td>\n",
       "      <td>...</td>\n",
       "    </tr>\n",
       "    <tr>\n",
       "      <th>95</th>\n",
       "      <td>Dog</td>\n",
       "      <td>*Sam</td>\n",
       "      <td>Neutered Male</td>\n",
       "    </tr>\n",
       "    <tr>\n",
       "      <th>96</th>\n",
       "      <td>Dog</td>\n",
       "      <td>Jackie</td>\n",
       "      <td>Neutered Male</td>\n",
       "    </tr>\n",
       "    <tr>\n",
       "      <th>97</th>\n",
       "      <td>Dog</td>\n",
       "      <td>Benji</td>\n",
       "      <td>Spayed Female</td>\n",
       "    </tr>\n",
       "    <tr>\n",
       "      <th>98</th>\n",
       "      <td>Dog</td>\n",
       "      <td>Shelly</td>\n",
       "      <td>Spayed Female</td>\n",
       "    </tr>\n",
       "    <tr>\n",
       "      <th>99</th>\n",
       "      <td>Dog</td>\n",
       "      <td>Rocky</td>\n",
       "      <td>Neutered Male</td>\n",
       "    </tr>\n",
       "  </tbody>\n",
       "</table>\n",
       "<p>100 rows × 3 columns</p>\n",
       "</div>"
      ],
      "text/plain": [
       "   ANIMAL_TYPE    NAME SEX_UPON_INTAKE\n",
       "0          Cat   Sugar   Neutered Male\n",
       "1          Cat   Jewel   Spayed Female\n",
       "2          Cat     Meo   Neutered Male\n",
       "3          Dog  Harley   Spayed Female\n",
       "4          Cat     Gia   Spayed Female\n",
       "..         ...     ...             ...\n",
       "95         Dog    *Sam   Neutered Male\n",
       "96         Dog  Jackie   Neutered Male\n",
       "97         Dog   Benji   Spayed Female\n",
       "98         Dog  Shelly   Spayed Female\n",
       "99         Dog   Rocky   Neutered Male\n",
       "\n",
       "[100 rows x 3 columns]"
      ]
     },
     "execution_count": 2,
     "metadata": {},
     "output_type": "execute_result"
    }
   ],
   "source": [
    "import pandas as pd \n",
    "df1 = pd.read_csv('../datasets/ANIMAL_INS.csv')\n",
    "df1['NAME'] = df1['NAME'].fillna('No name')\n",
    "df1.sort_values(by=['ANIMAL_ID'])[['ANIMAL_TYPE', 'NAME', 'SEX_UPON_INTAKE']]"
   ]
  },
  {
   "cell_type": "markdown",
   "id": "f3cbb869-b433-4c7c-b0f3-673ac2bc77ab",
   "metadata": {},
   "source": [
    "# 02. 가격이 제일 비싼 식품의 정보 출력하기"
   ]
  },
  {
   "cell_type": "code",
   "execution_count": 4,
   "id": "19687c94-afbe-47e6-8c00-fd21140ea352",
   "metadata": {},
   "outputs": [
    {
     "data": {
      "text/html": [
       "<div>\n",
       "<style scoped>\n",
       "    .dataframe tbody tr th:only-of-type {\n",
       "        vertical-align: middle;\n",
       "    }\n",
       "\n",
       "    .dataframe tbody tr th {\n",
       "        vertical-align: top;\n",
       "    }\n",
       "\n",
       "    .dataframe thead th {\n",
       "        text-align: right;\n",
       "    }\n",
       "</style>\n",
       "<table border=\"1\" class=\"dataframe\">\n",
       "  <thead>\n",
       "    <tr style=\"text-align: right;\">\n",
       "      <th></th>\n",
       "      <th>PRODUCT_ID</th>\n",
       "      <th>PRODUCT_NAME</th>\n",
       "      <th>PRODUCT_CD</th>\n",
       "      <th>CATEGORY</th>\n",
       "      <th>PRICE</th>\n",
       "    </tr>\n",
       "  </thead>\n",
       "  <tbody>\n",
       "    <tr>\n",
       "      <th>20</th>\n",
       "      <td>P0051</td>\n",
       "      <td>맛있는배추김치</td>\n",
       "      <td>CD_KC00001</td>\n",
       "      <td>김치</td>\n",
       "      <td>19000</td>\n",
       "    </tr>\n",
       "  </tbody>\n",
       "</table>\n",
       "</div>"
      ],
      "text/plain": [
       "   PRODUCT_ID PRODUCT_NAME  PRODUCT_CD CATEGORY  PRICE\n",
       "20      P0051      맛있는배추김치  CD_KC00001       김치  19000"
      ]
     },
     "execution_count": 4,
     "metadata": {},
     "output_type": "execute_result"
    }
   ],
   "source": [
    "df2 = pd.read_csv('../datasets/FOOD_PRODUCT.csv', encoding='cp949')\n",
    "df2.loc[df2['PRICE'] == max(df2['PRICE'])]"
   ]
  },
  {
   "cell_type": "markdown",
   "id": "e5b6c1e1-5952-4948-b9ce-95fb1d7760b4",
   "metadata": {},
   "source": [
    "# 03. 중복 제거하기"
   ]
  },
  {
   "cell_type": "code",
   "execution_count": 6,
   "id": "da46f6d2-bdfd-4358-b14d-b6349dff77ee",
   "metadata": {},
   "outputs": [
    {
     "data": {
      "text/html": [
       "<div>\n",
       "<style scoped>\n",
       "    .dataframe tbody tr th:only-of-type {\n",
       "        vertical-align: middle;\n",
       "    }\n",
       "\n",
       "    .dataframe tbody tr th {\n",
       "        vertical-align: top;\n",
       "    }\n",
       "\n",
       "    .dataframe thead th {\n",
       "        text-align: right;\n",
       "    }\n",
       "</style>\n",
       "<table border=\"1\" class=\"dataframe\">\n",
       "  <thead>\n",
       "    <tr style=\"text-align: right;\">\n",
       "      <th></th>\n",
       "      <th>count</th>\n",
       "    </tr>\n",
       "  </thead>\n",
       "  <tbody>\n",
       "    <tr>\n",
       "      <th>0</th>\n",
       "      <td>96</td>\n",
       "    </tr>\n",
       "  </tbody>\n",
       "</table>\n",
       "</div>"
      ],
      "text/plain": [
       "   count\n",
       "0     96"
      ]
     },
     "execution_count": 6,
     "metadata": {},
     "output_type": "execute_result"
    }
   ],
   "source": [
    "df3 = pd.read_csv('../datasets/ANIMAL_INS.csv')\n",
    "df3 = df3.dropna(subset=['NAME'])\n",
    "df3 = df3.drop_duplicates(subset=['NAME'])\n",
    "pd.DataFrame([len(df3)], columns=['count'])"
   ]
  },
  {
   "cell_type": "markdown",
   "id": "748844a0-dce9-49d8-a2a0-e8f96482e929",
   "metadata": {},
   "source": [
    "# 04. 동물 수 구하기"
   ]
  },
  {
   "cell_type": "code",
   "execution_count": 8,
   "id": "4dfddd1b-a2d7-493f-b1f6-af25e63ab8b7",
   "metadata": {},
   "outputs": [
    {
     "data": {
      "text/html": [
       "<div>\n",
       "<style scoped>\n",
       "    .dataframe tbody tr th:only-of-type {\n",
       "        vertical-align: middle;\n",
       "    }\n",
       "\n",
       "    .dataframe tbody tr th {\n",
       "        vertical-align: top;\n",
       "    }\n",
       "\n",
       "    .dataframe thead th {\n",
       "        text-align: right;\n",
       "    }\n",
       "</style>\n",
       "<table border=\"1\" class=\"dataframe\">\n",
       "  <thead>\n",
       "    <tr style=\"text-align: right;\">\n",
       "      <th></th>\n",
       "      <th>count</th>\n",
       "    </tr>\n",
       "  </thead>\n",
       "  <tbody>\n",
       "    <tr>\n",
       "      <th>0</th>\n",
       "      <td>100</td>\n",
       "    </tr>\n",
       "  </tbody>\n",
       "</table>\n",
       "</div>"
      ],
      "text/plain": [
       "   count\n",
       "0    100"
      ]
     },
     "execution_count": 8,
     "metadata": {},
     "output_type": "execute_result"
    }
   ],
   "source": [
    "df4 = pd.read_csv('../datasets/ANIMAL_INS.csv')\n",
    "pd.DataFrame([len(df4)], columns=['count'])"
   ]
  },
  {
   "cell_type": "markdown",
   "id": "d0d85c59-0bf2-477e-89d3-54fd39c69bb1",
   "metadata": {},
   "source": [
    "# 05. 이름에 el이 들어가는 동물 찾기"
   ]
  },
  {
   "cell_type": "code",
   "execution_count": 10,
   "id": "dbf1ad86-f763-43c2-9f48-1d18cb3c6a86",
   "metadata": {},
   "outputs": [
    {
     "data": {
      "text/html": [
       "<div>\n",
       "<style scoped>\n",
       "    .dataframe tbody tr th:only-of-type {\n",
       "        vertical-align: middle;\n",
       "    }\n",
       "\n",
       "    .dataframe tbody tr th {\n",
       "        vertical-align: top;\n",
       "    }\n",
       "\n",
       "    .dataframe thead th {\n",
       "        text-align: right;\n",
       "    }\n",
       "</style>\n",
       "<table border=\"1\" class=\"dataframe\">\n",
       "  <thead>\n",
       "    <tr style=\"text-align: right;\">\n",
       "      <th></th>\n",
       "      <th>ANIMAL_ID</th>\n",
       "      <th>ANIMAL_TYPE</th>\n",
       "      <th>DATETIME</th>\n",
       "      <th>INTAKE_CONDITION</th>\n",
       "      <th>NAME</th>\n",
       "      <th>SEX_UPON_INTAKE</th>\n",
       "    </tr>\n",
       "  </thead>\n",
       "  <tbody>\n",
       "    <tr>\n",
       "      <th>13</th>\n",
       "      <td>A355753</td>\n",
       "      <td>Dog</td>\n",
       "      <td>2015-09-10 13:14</td>\n",
       "      <td>Normal</td>\n",
       "      <td>Elijah</td>\n",
       "      <td>Neutered Male</td>\n",
       "    </tr>\n",
       "    <tr>\n",
       "      <th>57</th>\n",
       "      <td>A382192</td>\n",
       "      <td>Dog</td>\n",
       "      <td>2015-03-13 13:14</td>\n",
       "      <td>Normal</td>\n",
       "      <td>Maxwell 2</td>\n",
       "      <td>Intact Male</td>\n",
       "    </tr>\n",
       "    <tr>\n",
       "      <th>73</th>\n",
       "      <td>A391858</td>\n",
       "      <td>Dog</td>\n",
       "      <td>2017-03-16 16:53</td>\n",
       "      <td>Normal</td>\n",
       "      <td>Nellie</td>\n",
       "      <td>Spayed Female</td>\n",
       "    </tr>\n",
       "    <tr>\n",
       "      <th>98</th>\n",
       "      <td>A414198</td>\n",
       "      <td>Dog</td>\n",
       "      <td>2015-01-29 15:01</td>\n",
       "      <td>Normal</td>\n",
       "      <td>Shelly</td>\n",
       "      <td>Spayed Female</td>\n",
       "    </tr>\n",
       "  </tbody>\n",
       "</table>\n",
       "</div>"
      ],
      "text/plain": [
       "   ANIMAL_ID ANIMAL_TYPE          DATETIME INTAKE_CONDITION       NAME  \\\n",
       "13   A355753         Dog  2015-09-10 13:14           Normal     Elijah   \n",
       "57   A382192         Dog  2015-03-13 13:14           Normal  Maxwell 2   \n",
       "73   A391858         Dog  2017-03-16 16:53           Normal     Nellie   \n",
       "98   A414198         Dog  2015-01-29 15:01           Normal     Shelly   \n",
       "\n",
       "   SEX_UPON_INTAKE  \n",
       "13   Neutered Male  \n",
       "57     Intact Male  \n",
       "73   Spayed Female  \n",
       "98   Spayed Female  "
      ]
     },
     "execution_count": 10,
     "metadata": {},
     "output_type": "execute_result"
    }
   ],
   "source": [
    "df4 = pd.read_csv('../datasets/ANIMAL_INS.csv') \n",
    "df4.loc[(df4['NAME'].str.lower().str.contains('el')) & (df4['ANIMAL_TYPE'] == 'Dog')].sort_values(by='NAME')"
   ]
  }
 ],
 "metadata": {
  "kernelspec": {
   "display_name": "Python 3 (ipykernel)",
   "language": "python",
   "name": "python3"
  },
  "language_info": {
   "codemirror_mode": {
    "name": "ipython",
    "version": 3
   },
   "file_extension": ".py",
   "mimetype": "text/x-python",
   "name": "python",
   "nbconvert_exporter": "python",
   "pygments_lexer": "ipython3",
   "version": "3.12.4"
  }
 },
 "nbformat": 4,
 "nbformat_minor": 5
}
